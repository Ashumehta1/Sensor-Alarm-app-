{
 "cells": [
  {
   "cell_type": "code",
   "execution_count": 1,
   "id": "71460084-df61-482b-ad74-ec1e0f19a218",
   "metadata": {},
   "outputs": [],
   "source": [
    "import numpy as np\n",
    "import pandas as pd\n",
    "import cx_Oracle\n",
    "import os\n",
    "import time\n",
    "from datetime import datetime\n",
    "from datetime import timedelta\n",
    "from logging import *\n",
    "from tkinter import messagebox"
   ]
  },
  {
   "cell_type": "code",
   "execution_count": 2,
   "id": "045a3a8f-3443-46a7-86a3-889eb7418c5a",
   "metadata": {},
   "outputs": [
    {
     "name": "stdout",
     "output_type": "stream",
     "text": [
      "C:\\Users\\Ashish.9650-IT-ASHISH\n"
     ]
    }
   ],
   "source": [
    "cwd = os.getcwd()\n",
    "print(cwd)\n"
   ]
  },
  {
   "cell_type": "code",
   "execution_count": 3,
   "id": "a583e9e5-d856-4cd7-a7fe-541bdfd9e741",
   "metadata": {},
   "outputs": [],
   "source": [
    "basicConfig(filename='error.log',filemode='a',format='%(linenos)s--%(asctime)s--%(message)s--%(porcess)s')"
   ]
  },
  {
   "cell_type": "code",
   "execution_count": 4,
   "id": "7a6f54d4-6d3c-4b58-abad-6d3b33cb096b",
   "metadata": {},
   "outputs": [
    {
     "name": "stdout",
     "output_type": "stream",
     "text": [
      "connection done....\n"
     ]
    }
   ],
   "source": [
    "conn=cx_Oracle.connect('BSP_BF8/bspbf8@10.100.76.101:1521/BFL2')\n",
    "print('connection done....')"
   ]
  },
  {
   "cell_type": "code",
   "execution_count": 5,
   "id": "55930bb6-fa50-4011-884a-8c0f26f71c38",
   "metadata": {},
   "outputs": [],
   "source": [
    "cursor8 = conn.cursor()\n",
    "\n",
    "# Fetching interval and count values from another table (adjust the table and column names accordingly)\n",
    "interval_query = f\"SELECT ALARM_PERIOD FROM T_MESSAGE_DETAILS WHERE MSG_CODE = :msg_code\"\n",
    "description_query = f\"SELECT MSG_DESCRIPTION FROM T_MESSAGE_DETAILS WHERE MSG_CODE = :msg_code\"\n",
    "\n",
    "# Set the MSG_CODE based on your requirement (1 for low, 2 for high, or any other value)\n",
    "msg_code_low = 1\n",
    "msg_code_high = 2"
   ]
  },
  {
   "cell_type": "code",
   "execution_count": 6,
   "id": "5937f648-653c-41e9-9d9e-c19543eed6b9",
   "metadata": {},
   "outputs": [
    {
     "name": "stdout",
     "output_type": "stream",
     "text": [
      "interval_value_low:- 60\n"
     ]
    }
   ],
   "source": [
    "cursor8.execute(interval_query, {'msg_code': msg_code_low})\n",
    "interval_value_low = cursor8.fetchone()[0]  # Assuming it returns a single value\n",
    "print('interval_value_low:-', interval_value_low)"
   ]
  },
  {
   "cell_type": "code",
   "execution_count": 7,
   "id": "4606053c-7962-4dfc-b8bc-6f03bec9df42",
   "metadata": {},
   "outputs": [
    {
     "name": "stdout",
     "output_type": "stream",
     "text": [
      "msg_description_low:- Lower than Low Limit\n"
     ]
    }
   ],
   "source": [
    "# Fetching MSG_DESCRIPTION for low\n",
    "cursor8.execute(description_query, {'msg_code': msg_code_low})\n",
    "msg_description_low = cursor8.fetchone()[0]  # Assuming it returns a single value\n",
    "print('msg_description_low:-', msg_description_low)"
   ]
  },
  {
   "cell_type": "code",
   "execution_count": 8,
   "id": "9913afc4-aca9-4f8c-bd48-ae609bfd3bc4",
   "metadata": {},
   "outputs": [
    {
     "name": "stdout",
     "output_type": "stream",
     "text": [
      "count_value_low:- 6.0\n"
     ]
    }
   ],
   "source": [
    "count_value_low = interval_value_low / 10\n",
    "print('count_value_low:-', count_value_low)"
   ]
  },
  {
   "cell_type": "code",
   "execution_count": 9,
   "id": "775fe88c-4512-4fe8-850e-5b7c7faf8362",
   "metadata": {},
   "outputs": [
    {
     "name": "stdout",
     "output_type": "stream",
     "text": [
      "interval_value_high:- 60\n"
     ]
    }
   ],
   "source": [
    "# Fetching interval for high\n",
    "cursor8.execute(interval_query, {'msg_code': msg_code_high})\n",
    "interval_value_high = cursor8.fetchone()[0]  # Assuming it returns a single value\n",
    "print('interval_value_high:-', interval_value_high)"
   ]
  },
  {
   "cell_type": "code",
   "execution_count": 10,
   "id": "46adb122-8e30-40b6-9095-02410636e8f8",
   "metadata": {},
   "outputs": [
    {
     "name": "stdout",
     "output_type": "stream",
     "text": [
      "msg_description_high:- Higher than High Limit\n"
     ]
    }
   ],
   "source": [
    "# Fetching MSG_DESCRIPTION for high\n",
    "cursor8.execute(description_query, {'msg_code': msg_code_high})\n",
    "msg_description_high = cursor8.fetchone()[0]  # Assuming it returns a single value\n",
    "print('msg_description_high:-', msg_description_high)"
   ]
  },
  {
   "cell_type": "code",
   "execution_count": 11,
   "id": "2f62980d-2550-4f76-97a1-6ae16a49d091",
   "metadata": {},
   "outputs": [
    {
     "name": "stdout",
     "output_type": "stream",
     "text": [
      "count_value_high:- 6.0\n"
     ]
    }
   ],
   "source": [
    "count_value_high = interval_value_high / 10\n",
    "print('count_value_high:-', count_value_high)"
   ]
  },
  {
   "cell_type": "code",
   "execution_count": 12,
   "id": "08d99ff0-7128-42c6-a056-1b553f31da89",
   "metadata": {},
   "outputs": [],
   "source": [
    "# Forming the SQL query with the dynamic interval value for low\n",
    "sql_low = f'''SELECT *\n",
    "                        FROM T_ALARM_EVENT_MONITOR\n",
    "                        WHERE MSG_CODE = {msg_code_low}\n",
    "                        AND ALARM_TIME >= (SELECT MAX(ALARM_TIME) - INTERVAL '{interval_value_low}' MINUTE FROM T_ALARM_EVENT_MONITOR)\n",
    "                        '''"
   ]
  },
  {
   "cell_type": "code",
   "execution_count": 13,
   "id": "33209120-f1b7-4f34-83f7-839a3c25a67f",
   "metadata": {},
   "outputs": [],
   "source": [
    "# Forming the SQL query with the dynamic interval value for high\n",
    "sql_high = f'''SELECT *\n",
    "                        FROM T_ALARM_EVENT_MONITOR\n",
    "                        WHERE MSG_CODE = {msg_code_high}\n",
    "                        AND ALARM_TIME >= (SELECT MAX(ALARM_TIME) - INTERVAL '{interval_value_high}' MINUTE FROM T_ALARM_EVENT_MONITOR)\n",
    "                        '''"
   ]
  },
  {
   "cell_type": "code",
   "execution_count": 14,
   "id": "625316fd-1b34-4302-85d6-7dcf606b29cf",
   "metadata": {},
   "outputs": [],
   "source": [
    "# Fetching data for low\n",
    "cursor8.execute(sql_low)\n",
    "fetched_data_low = cursor8.fetchall()\n",
    "fetched_column_low = [col[0] for col in cursor8.description]\n",
    "df_alarm_low = pd.DataFrame(fetched_data_low, columns=fetched_column_low)"
   ]
  },
  {
   "cell_type": "code",
   "execution_count": 15,
   "id": "89759033-10cc-4cf0-b30c-bfc0c3c774a2",
   "metadata": {},
   "outputs": [
    {
     "name": "stdout",
     "output_type": "stream",
     "text": [
      "df_alarm_low\n",
      "   S_NO          ALARM_TIME  TAG_ID                  TAG_NAME  TAG_VALUE  \\\n",
      "0   338 2023-06-13 18:10:00   92012  L2_AVG_HEARTH_DEL_TEMP_D      7.370   \n",
      "1   378 2023-06-13 18:30:00   92012  L2_AVG_HEARTH_DEL_TEMP_D      7.388   \n",
      "2   398 2023-06-13 18:40:00   92012  L2_AVG_HEARTH_DEL_TEMP_D      7.389   \n",
      "3   358 2023-06-13 18:20:00   92012  L2_AVG_HEARTH_DEL_TEMP_D      7.384   \n",
      "4   418 2023-06-13 18:50:00   92012  L2_AVG_HEARTH_DEL_TEMP_D      7.395   \n",
      "\n",
      "   MSG_CODE  ALARM_STATUS  \n",
      "0         1             1  \n",
      "1         1             1  \n",
      "2         1             1  \n",
      "3         1             1  \n",
      "4         1             1  \n",
      "df_alarm_low:- (5, 7)\n"
     ]
    }
   ],
   "source": [
    "print('df_alarm_low')\n",
    "print(df_alarm_low.head(20))\n",
    "print('df_alarm_low:-',df_alarm_low.shape)"
   ]
  },
  {
   "cell_type": "code",
   "execution_count": 16,
   "id": "00f61342-964d-432f-9ed2-b46f19e6c9cc",
   "metadata": {},
   "outputs": [
    {
     "name": "stdout",
     "output_type": "stream",
     "text": [
      "df_alarm_high\n",
      "    S_NO          ALARM_TIME  TAG_ID                TAG_NAME  TAG_VALUE  \\\n",
      "0    319 2023-06-13 18:10:00    8134  HEARTH_TEMP_K_VL03_TC1     47.915   \n",
      "1    320 2023-06-13 18:10:00    8160  HEARTH_TEMP_P_VL01_TC1    104.935   \n",
      "2    321 2023-06-13 18:10:00    8161  HEARTH_TEMP_P_VL02_TC1    109.751   \n",
      "3    322 2023-06-13 18:10:00    8162  HEARTH_TEMP_P_VL03_TC1    106.850   \n",
      "4    323 2023-06-13 18:10:00    8163  HEARTH_TEMP_P_VL04_TC1    110.584   \n",
      "5    324 2023-06-13 18:10:00    8164  HEARTH_TEMP_P_VL05_TC1    109.132   \n",
      "6    325 2023-06-13 18:10:00    8165  HEARTH_TEMP_P_VL06_TC1    103.096   \n",
      "7    326 2023-06-13 18:10:00    8184  HEARTH_TEMP_P_VL25_TC1    110.343   \n",
      "8    327 2023-06-13 18:10:00    8185  HEARTH_TEMP_P_VL26_TC1    106.052   \n",
      "9    328 2023-06-13 18:10:00    8186  HEARTH_TEMP_P_VL27_TC1    105.657   \n",
      "10   329 2023-06-13 18:10:00    8187  HEARTH_TEMP_P_VL28_TC1    103.944   \n",
      "11   330 2023-06-13 18:10:00    8188  HEARTH_TEMP_P_VL29_TC1     98.258   \n",
      "12   331 2023-06-13 18:10:00    8189  HEARTH_TEMP_P_VL30_TC1    105.635   \n",
      "13   332 2023-06-13 18:10:00    8190  HEARTH_TEMP_P_VL31_TC1    123.579   \n",
      "14   333 2023-06-13 18:10:00    8191  HEARTH_TEMP_P_VL32_TC1    108.007   \n",
      "15   334 2023-06-13 18:10:00    8192  HEARTH_TEMP_P_VL33_TC1     85.154   \n",
      "16   335 2023-06-13 18:10:00    8193  HEARTH_TEMP_P_VL34_TC1    113.376   \n",
      "17   336 2023-06-13 18:10:00    8194  HEARTH_TEMP_P_VL35_TC1    101.442   \n",
      "18   337 2023-06-13 18:10:00    8195  HEARTH_TEMP_P_VL36_TC1    106.077   \n",
      "19   359 2023-06-13 18:30:00    8134  HEARTH_TEMP_K_VL03_TC1     48.007   \n",
      "\n",
      "    MSG_CODE  ALARM_STATUS  \n",
      "0          2             1  \n",
      "1          2             1  \n",
      "2          2             1  \n",
      "3          2             1  \n",
      "4          2             1  \n",
      "5          2             1  \n",
      "6          2             1  \n",
      "7          2             1  \n",
      "8          2             1  \n",
      "9          2             1  \n",
      "10         2             1  \n",
      "11         2             1  \n",
      "12         2             1  \n",
      "13         2             1  \n",
      "14         2             1  \n",
      "15         2             1  \n",
      "16         2             1  \n",
      "17         2             1  \n",
      "18         2             1  \n",
      "19         2             1  \n",
      "df_alarm_high:- (133, 7)\n"
     ]
    }
   ],
   "source": [
    "# Fetching data for high\n",
    "cursor8.execute(sql_high)\n",
    "fetched_data_high = cursor8.fetchall()\n",
    "fetched_column_high = [col[0] for col in cursor8.description]\n",
    "df_alarm_high = pd.DataFrame(fetched_data_high, columns=fetched_column_high)\n",
    "print('df_alarm_high')\n",
    "print(df_alarm_high.head(20))\n",
    "print('df_alarm_high:-',df_alarm_high.shape)"
   ]
  },
  {
   "cell_type": "code",
   "execution_count": 17,
   "id": "36d6b4fa-77b7-4b02-aa21-588b9eb90597",
   "metadata": {},
   "outputs": [],
   "source": [
    "# Adding MSG_DESCRIPTION column to low DataFrame\n",
    "df_alarm_low['MSG_DESCRIPTION'] = msg_description_low\n",
    "\n",
    "# Adding MSG_DESCRIPTION column to high DataFrame\n",
    "df_alarm_high['MSG_DESCRIPTION'] = msg_description_high"
   ]
  },
  {
   "cell_type": "code",
   "execution_count": 18,
   "id": "101bb0b4-a900-422a-8a7c-3c4b5bff3212",
   "metadata": {},
   "outputs": [
    {
     "name": "stdout",
     "output_type": "stream",
     "text": [
      "filtered_df_alarm_low\n",
      "   S_NO          ALARM_TIME  TAG_ID                  TAG_NAME  TAG_VALUE  \\\n",
      "0   338 2023-06-13 18:10:00   92012  L2_AVG_HEARTH_DEL_TEMP_D      7.370   \n",
      "1   378 2023-06-13 18:30:00   92012  L2_AVG_HEARTH_DEL_TEMP_D      7.388   \n",
      "2   398 2023-06-13 18:40:00   92012  L2_AVG_HEARTH_DEL_TEMP_D      7.389   \n",
      "3   358 2023-06-13 18:20:00   92012  L2_AVG_HEARTH_DEL_TEMP_D      7.384   \n",
      "4   418 2023-06-13 18:50:00   92012  L2_AVG_HEARTH_DEL_TEMP_D      7.395   \n",
      "\n",
      "   MSG_CODE  ALARM_STATUS       MSG_DESCRIPTION  \n",
      "0         1             1  Lower than Low Limit  \n",
      "1         1             1  Lower than Low Limit  \n",
      "2         1             1  Lower than Low Limit  \n",
      "3         1             1  Lower than Low Limit  \n",
      "4         1             1  Lower than Low Limit  \n",
      "filtered_df_alarm_low:- (5, 8)\n"
     ]
    }
   ],
   "source": [
    "# Filtered DataFrame for low\n",
    "filtered_df_alarm_low = df_alarm_low[df_alarm_low['MSG_CODE'] == msg_code_low]\n",
    "print('filtered_df_alarm_low')\n",
    "print(filtered_df_alarm_low.head(6))\n",
    "print('filtered_df_alarm_low:-' ,filtered_df_alarm_low.shape)"
   ]
  },
  {
   "cell_type": "code",
   "execution_count": 19,
   "id": "031cf455-a90d-4a00-9b5d-de25e61fc9aa",
   "metadata": {},
   "outputs": [
    {
     "name": "stdout",
     "output_type": "stream",
     "text": [
      "filtered_df_alarm_high\n",
      "   S_NO          ALARM_TIME  TAG_ID                TAG_NAME  TAG_VALUE  \\\n",
      "0   319 2023-06-13 18:10:00    8134  HEARTH_TEMP_K_VL03_TC1     47.915   \n",
      "1   320 2023-06-13 18:10:00    8160  HEARTH_TEMP_P_VL01_TC1    104.935   \n",
      "2   321 2023-06-13 18:10:00    8161  HEARTH_TEMP_P_VL02_TC1    109.751   \n",
      "3   322 2023-06-13 18:10:00    8162  HEARTH_TEMP_P_VL03_TC1    106.850   \n",
      "4   323 2023-06-13 18:10:00    8163  HEARTH_TEMP_P_VL04_TC1    110.584   \n",
      "5   324 2023-06-13 18:10:00    8164  HEARTH_TEMP_P_VL05_TC1    109.132   \n",
      "\n",
      "   MSG_CODE  ALARM_STATUS         MSG_DESCRIPTION  \n",
      "0         2             1  Higher than High Limit  \n",
      "1         2             1  Higher than High Limit  \n",
      "2         2             1  Higher than High Limit  \n",
      "3         2             1  Higher than High Limit  \n",
      "4         2             1  Higher than High Limit  \n",
      "5         2             1  Higher than High Limit  \n",
      "filtered_df_alarm_high:- (133, 8)\n"
     ]
    }
   ],
   "source": [
    "# Filtered DataFrame for high\n",
    "filtered_df_alarm_high = df_alarm_high[df_alarm_high['MSG_CODE'] == msg_code_high]\n",
    "print('filtered_df_alarm_high')\n",
    "print(filtered_df_alarm_high.head(6))\n",
    "print('filtered_df_alarm_high:-' ,filtered_df_alarm_high.shape)"
   ]
  },
  {
   "cell_type": "code",
   "execution_count": 20,
   "id": "738483a6-d245-451d-b2dd-f20c5be06183",
   "metadata": {},
   "outputs": [
    {
     "name": "stdout",
     "output_type": "stream",
     "text": [
      "grouped_df_alarm_low:-         S_NO  ALARM_TIME  TAG_NAME  TAG_VALUE  MSG_CODE  ALARM_STATUS  \\\n",
      "TAG_ID                                                                  \n",
      "92012      5           5         5          5         5             5   \n",
      "\n",
      "        MSG_DESCRIPTION  \n",
      "TAG_ID                   \n",
      "92012                 5  \n",
      "grouped_df_alarm_low:- (1, 7)\n"
     ]
    }
   ],
   "source": [
    "# Grouped DataFrame for low\n",
    "grouped_df_alarm_low = filtered_df_alarm_low.groupby('TAG_ID').count()\n",
    "print('grouped_df_alarm_low:-', grouped_df_alarm_low.head())\n",
    "print('grouped_df_alarm_low:-',grouped_df_alarm_low.shape)"
   ]
  },
  {
   "cell_type": "code",
   "execution_count": 21,
   "id": "cb542ae2-7f6d-4433-8d0c-ac69a17319f1",
   "metadata": {},
   "outputs": [
    {
     "name": "stdout",
     "output_type": "stream",
     "text": [
      "grouped_df_alarm_high:-         S_NO  ALARM_TIME  TAG_NAME  TAG_VALUE  MSG_CODE  ALARM_STATUS  \\\n",
      "TAG_ID                                                                  \n",
      "8134       7           7         7          7         7             7   \n",
      "8160       7           7         7          7         7             7   \n",
      "8161       7           7         7          7         7             7   \n",
      "8162       7           7         7          7         7             7   \n",
      "8163       7           7         7          7         7             7   \n",
      "\n",
      "        MSG_DESCRIPTION  \n",
      "TAG_ID                   \n",
      "8134                  7  \n",
      "8160                  7  \n",
      "8161                  7  \n",
      "8162                  7  \n",
      "8163                  7  \n",
      "grouped_df_alarm_high:- (19, 7)\n"
     ]
    }
   ],
   "source": [
    "# Grouped DataFrame for high\n",
    "grouped_df_alarm_high = filtered_df_alarm_high.groupby('TAG_ID').count()\n",
    "print('grouped_df_alarm_high:-', grouped_df_alarm_high.head())\n",
    "print('grouped_df_alarm_high:-',grouped_df_alarm_high.shape)"
   ]
  },
  {
   "cell_type": "code",
   "execution_count": 22,
   "id": "792a0984-5043-4f67-84c5-280834ff4073",
   "metadata": {},
   "outputs": [],
   "source": [
    "# Selected tags for low\n",
    "selected_tags_low = grouped_df_alarm_low[grouped_df_alarm_low['S_NO'] >= count_value_low].index\n",
    "# Selected tags for high\n",
    "selected_tags_high = grouped_df_alarm_high[grouped_df_alarm_high['S_NO'] >= count_value_high].index"
   ]
  },
  {
   "cell_type": "code",
   "execution_count": 23,
   "id": "2d428ba2-06de-4433-a86c-b0a8af94aec5",
   "metadata": {},
   "outputs": [
    {
     "name": "stdout",
     "output_type": "stream",
     "text": [
      "result_df_alarm_low\n",
      "Empty DataFrame\n",
      "Columns: [S_NO, ALARM_TIME, TAG_NAME, TAG_VALUE, MSG_CODE, ALARM_STATUS, MSG_DESCRIPTION]\n",
      "Index: []\n",
      "result_df_alarm_low:- (0, 7)\n"
     ]
    }
   ],
   "source": [
    "# Result DataFrame for low\n",
    "result_df_alarm_low = df_alarm_low[df_alarm_low['TAG_ID'].isin(selected_tags_low)].groupby('TAG_ID').last()\n",
    "print('result_df_alarm_low')\n",
    "print(result_df_alarm_low.head(20))\n",
    "print('result_df_alarm_low:-',result_df_alarm_low.shape)"
   ]
  },
  {
   "cell_type": "code",
   "execution_count": 24,
   "id": "09ad360a-9c14-4e6e-89a9-aa9076b62fef",
   "metadata": {},
   "outputs": [
    {
     "name": "stdout",
     "output_type": "stream",
     "text": [
      "result_df_alarm_high\n",
      "        S_NO          ALARM_TIME                TAG_NAME  TAG_VALUE  MSG_CODE  \\\n",
      "TAG_ID                                                                          \n",
      "8134     399 2023-06-13 18:50:00  HEARTH_TEMP_K_VL03_TC1     48.086         2   \n",
      "8160     400 2023-06-13 18:50:00  HEARTH_TEMP_P_VL01_TC1    102.633         2   \n",
      "8161     401 2023-06-13 18:50:00  HEARTH_TEMP_P_VL02_TC1    107.008         2   \n",
      "8162     402 2023-06-13 18:50:00  HEARTH_TEMP_P_VL03_TC1    103.033         2   \n",
      "8163     403 2023-06-13 18:50:00  HEARTH_TEMP_P_VL04_TC1    107.636         2   \n",
      "8164     404 2023-06-13 18:50:00  HEARTH_TEMP_P_VL05_TC1    106.409         2   \n",
      "8165     405 2023-06-13 18:50:00  HEARTH_TEMP_P_VL06_TC1    100.775         2   \n",
      "8184     406 2023-06-13 18:50:00  HEARTH_TEMP_P_VL25_TC1    109.715         2   \n",
      "8185     407 2023-06-13 18:50:00  HEARTH_TEMP_P_VL26_TC1    104.890         2   \n",
      "8186     408 2023-06-13 18:50:00  HEARTH_TEMP_P_VL27_TC1    103.210         2   \n",
      "8187     409 2023-06-13 18:50:00  HEARTH_TEMP_P_VL28_TC1    101.277         2   \n",
      "8188     410 2023-06-13 18:50:00  HEARTH_TEMP_P_VL29_TC1     96.165         2   \n",
      "8189     411 2023-06-13 18:50:00  HEARTH_TEMP_P_VL30_TC1    102.874         2   \n",
      "8190     412 2023-06-13 18:50:00  HEARTH_TEMP_P_VL31_TC1    122.032         2   \n",
      "8191     413 2023-06-13 18:50:00  HEARTH_TEMP_P_VL32_TC1    106.393         2   \n",
      "8192     414 2023-06-13 18:50:00  HEARTH_TEMP_P_VL33_TC1     83.646         2   \n",
      "8193     415 2023-06-13 18:50:00  HEARTH_TEMP_P_VL34_TC1    111.241         2   \n",
      "8194     416 2023-06-13 18:50:00  HEARTH_TEMP_P_VL35_TC1     99.637         2   \n",
      "8195     417 2023-06-13 18:50:00  HEARTH_TEMP_P_VL36_TC1    103.885         2   \n",
      "\n",
      "        ALARM_STATUS         MSG_DESCRIPTION  \n",
      "TAG_ID                                        \n",
      "8134               1  Higher than High Limit  \n",
      "8160               1  Higher than High Limit  \n",
      "8161               1  Higher than High Limit  \n",
      "8162               1  Higher than High Limit  \n",
      "8163               1  Higher than High Limit  \n",
      "8164               1  Higher than High Limit  \n",
      "8165               1  Higher than High Limit  \n",
      "8184               1  Higher than High Limit  \n",
      "8185               1  Higher than High Limit  \n",
      "8186               1  Higher than High Limit  \n",
      "8187               1  Higher than High Limit  \n",
      "8188               1  Higher than High Limit  \n",
      "8189               1  Higher than High Limit  \n",
      "8190               1  Higher than High Limit  \n",
      "8191               1  Higher than High Limit  \n",
      "8192               1  Higher than High Limit  \n",
      "8193               1  Higher than High Limit  \n",
      "8194               1  Higher than High Limit  \n",
      "8195               1  Higher than High Limit  \n",
      "result_df_alarm_high:- (19, 7)\n"
     ]
    }
   ],
   "source": [
    "# Result DataFrame for high\n",
    "result_df_alarm_high = df_alarm_high[df_alarm_high['TAG_ID'].isin(selected_tags_high)].groupby('TAG_ID').last()\n",
    "print('result_df_alarm_high')\n",
    "print(result_df_alarm_high.head(20))\n",
    "print('result_df_alarm_high:-',result_df_alarm_high.shape)"
   ]
  },
  {
   "cell_type": "code",
   "execution_count": 25,
   "id": "acadeb09-6761-4776-aecf-95db725f709d",
   "metadata": {},
   "outputs": [],
   "source": [
    "# Concatenate the result DataFrames\n",
    "result_df_alarm = pd.concat([result_df_alarm_low, result_df_alarm_high])\n",
    "result_df_alarm.reset_index(inplace=True,drop=False)"
   ]
  },
  {
   "cell_type": "code",
   "execution_count": 26,
   "id": "82521547-57c7-4e14-8b02-c3efccee1f7c",
   "metadata": {},
   "outputs": [
    {
     "name": "stdout",
     "output_type": "stream",
     "text": [
      "result_df_alarm:-    TAG_ID  S_NO          ALARM_TIME                TAG_NAME  TAG_VALUE  \\\n",
      "0    8134   399 2023-06-13 18:50:00  HEARTH_TEMP_K_VL03_TC1     48.086   \n",
      "1    8160   400 2023-06-13 18:50:00  HEARTH_TEMP_P_VL01_TC1    102.633   \n",
      "2    8161   401 2023-06-13 18:50:00  HEARTH_TEMP_P_VL02_TC1    107.008   \n",
      "3    8162   402 2023-06-13 18:50:00  HEARTH_TEMP_P_VL03_TC1    103.033   \n",
      "4    8163   403 2023-06-13 18:50:00  HEARTH_TEMP_P_VL04_TC1    107.636   \n",
      "\n",
      "   MSG_CODE  ALARM_STATUS         MSG_DESCRIPTION  \n",
      "0         2             1  Higher than High Limit  \n",
      "1         2             1  Higher than High Limit  \n",
      "2         2             1  Higher than High Limit  \n",
      "3         2             1  Higher than High Limit  \n",
      "4         2             1  Higher than High Limit  \n",
      "    TAG_ID  S_NO          ALARM_TIME                TAG_NAME  TAG_VALUE  \\\n",
      "14    8191   413 2023-06-13 18:50:00  HEARTH_TEMP_P_VL32_TC1    106.393   \n",
      "15    8192   414 2023-06-13 18:50:00  HEARTH_TEMP_P_VL33_TC1     83.646   \n",
      "16    8193   415 2023-06-13 18:50:00  HEARTH_TEMP_P_VL34_TC1    111.241   \n",
      "17    8194   416 2023-06-13 18:50:00  HEARTH_TEMP_P_VL35_TC1     99.637   \n",
      "18    8195   417 2023-06-13 18:50:00  HEARTH_TEMP_P_VL36_TC1    103.885   \n",
      "\n",
      "    MSG_CODE  ALARM_STATUS         MSG_DESCRIPTION  \n",
      "14         2             1  Higher than High Limit  \n",
      "15         2             1  Higher than High Limit  \n",
      "16         2             1  Higher than High Limit  \n",
      "17         2             1  Higher than High Limit  \n",
      "18         2             1  Higher than High Limit  \n",
      "(19, 8)\n"
     ]
    }
   ],
   "source": [
    "print('result_df_alarm:-', result_df_alarm.head())\n",
    "print(result_df_alarm.tail())\n",
    "print(result_df_alarm.shape)"
   ]
  },
  {
   "cell_type": "code",
   "execution_count": 27,
   "id": "4b071db7-470a-48e2-adf2-d5524e33e513",
   "metadata": {},
   "outputs": [],
   "source": [
    "cursor9 = conn.cursor()\n",
    "S_NO_sql = f'SELECT MAX(S_NO) FROM T_ALARM_HMI_MONITOR'\n",
    "                \n",
    "cursor9.execute(S_NO_sql)\n",
    "result = cursor9.fetchone()\n",
    "\n",
    "# Check if the result is not None\n",
    "if result is not None and result[0] is not None:\n",
    "    max_s_no = result[0]\n",
    "else:\n",
    "    max_s_no = 0  # Set a default value if no results are returned\n",
    "# Start the serial numbers from the next number after the maximum serial number of inserted data in\n",
    "result_df_alarm['SL_NO'] = range(max_s_no + 1, (max_s_no + 1) + len(result_df_alarm))"
   ]
  },
  {
   "cell_type": "code",
   "execution_count": 28,
   "id": "fda06db6-7c4e-463c-80aa-80d8008a2fbd",
   "metadata": {},
   "outputs": [],
   "source": [
    "for index, row in result_df_alarm.iterrows():\n",
    "    max_alarm_time = np.max(result_df_alarm['ALARM_TIME']).to_pydatetime()"
   ]
  },
  {
   "cell_type": "code",
   "execution_count": 29,
   "id": "9c948132-8123-4b87-9cdb-6db6c828428c",
   "metadata": {},
   "outputs": [
    {
     "name": "stdout",
     "output_type": "stream",
     "text": [
      "Log Data inserted ......\n"
     ]
    }
   ],
   "source": [
    "#Insert data into the T_ALARM_EVENT_MONITOR\n",
    "cursor10 = conn.cursor()\n",
    "cursor10.execute(f\"\"\"INSERT INTO T_ALARM_HMI_MONITOR\n",
    "                        (S_NO,TAG_NAME, ALARM_DT, TAG_ID, TAG_VALUE, MSG_CODE,MSG_DESCRIPTION,ALARM_STATUS)\n",
    "                        VALUES (:1, :2, :3, :4, :5,:6,:7,:8)\n",
    "                    \"\"\", (row['SL_NO'], row['TAG_NAME'],max_alarm_time, row['TAG_ID'], row['TAG_VALUE'], row['MSG_CODE'],row['MSG_DESCRIPTION'],row['ALARM_STATUS']))\n",
    "conn.commit()\n",
    "cursor10.close()\n",
    "print('''Log Data inserted ......''')"
   ]
  },
  {
   "cell_type": "code",
   "execution_count": null,
   "id": "5dc0b72c-06ef-4275-ad09-8e09e9bee2db",
   "metadata": {},
   "outputs": [],
   "source": []
  }
 ],
 "metadata": {
  "kernelspec": {
   "display_name": "Python 3 (ipykernel)",
   "language": "python",
   "name": "python3"
  },
  "language_info": {
   "codemirror_mode": {
    "name": "ipython",
    "version": 3
   },
   "file_extension": ".py",
   "mimetype": "text/x-python",
   "name": "python",
   "nbconvert_exporter": "python",
   "pygments_lexer": "ipython3",
   "version": "3.11.5"
  }
 },
 "nbformat": 4,
 "nbformat_minor": 5
}
